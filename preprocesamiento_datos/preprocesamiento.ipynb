{
  "cells": [
    {
      "cell_type": "code",
      "execution_count": 1,
      "metadata": {
        "id": "MYGMTa1VE37N"
      },
      "outputs": [],
      "source": [
        "import pandas as pd"
      ]
    },
    {
      "cell_type": "code",
      "execution_count": 2,
      "metadata": {
        "id": "HgOAS3YdFocm"
      },
      "outputs": [],
      "source": [
        "df1 =pd.read_excel('2017_1_cali.xlsx')"
      ]
    },
    {
      "cell_type": "code",
      "execution_count": 3,
      "metadata": {
        "id": "bjh-HF9rF_OP"
      },
      "outputs": [],
      "source": [
        "df2 =pd.read_excel('2017_2_cali.xlsx')"
      ]
    },
    {
      "cell_type": "code",
      "execution_count": 4,
      "metadata": {
        "id": "h-5bAL9qGD_1"
      },
      "outputs": [],
      "source": [
        "df3 =pd.read_excel('2018_1_cali.xlsx')"
      ]
    },
    {
      "cell_type": "code",
      "execution_count": 5,
      "metadata": {
        "id": "zV_FbPELGEko"
      },
      "outputs": [],
      "source": [
        "df4 =pd.read_excel('2018_2_cali.xlsx')"
      ]
    },
    {
      "cell_type": "code",
      "execution_count": 6,
      "metadata": {
        "id": "HnIA14-bGFJt"
      },
      "outputs": [],
      "source": [
        "df5 =pd.read_excel('2019_1_cali.xlsx')"
      ]
    },
    {
      "cell_type": "code",
      "execution_count": 7,
      "metadata": {
        "id": "ZkSjC5EDGFqZ"
      },
      "outputs": [],
      "source": [
        "df6 =pd.read_excel('2019_2_cali.xlsx')"
      ]
    },
    {
      "cell_type": "code",
      "execution_count": 8,
      "metadata": {
        "id": "QfOkNdHzGGSY"
      },
      "outputs": [],
      "source": [
        "df7 =pd.read_excel('2020_1_cali.xlsx')"
      ]
    },
    {
      "cell_type": "code",
      "execution_count": 9,
      "metadata": {
        "id": "nmghPyu1GHHO"
      },
      "outputs": [],
      "source": [
        "df8 =pd.read_excel('2020_2_cali.xlsx')"
      ]
    },
    {
      "cell_type": "code",
      "execution_count": 18,
      "metadata": {
        "id": "iIGBffYwN9iH"
      },
      "outputs": [],
      "source": [
        "df9=pd.read_excel('2021_1_cali.xlsx')"
      ]
    },
    {
      "cell_type": "code",
      "execution_count": 12,
      "metadata": {
        "id": "f8mlWuuDGHyX"
      },
      "outputs": [],
      "source": [
        "df10 =pd.read_excel('2021_2_cali.xlsx')"
      ]
    },
    {
      "cell_type": "code",
      "execution_count": 13,
      "metadata": {
        "id": "eAGqs7XGGIYo"
      },
      "outputs": [],
      "source": [
        "df11 =pd.read_excel('2022_1_cali.xlsx')"
      ]
    },
    {
      "cell_type": "code",
      "execution_count": 14,
      "metadata": {
        "id": "e-5vPr7BGJal"
      },
      "outputs": [],
      "source": [
        "df12 =pd.read_excel('2022_2_cali.xlsx')"
      ]
    },
    {
      "cell_type": "code",
      "execution_count": 20,
      "metadata": {
        "id": "hZw_9wtaGJVX"
      },
      "outputs": [],
      "source": [
        "df_todos = pd.concat([df1,df2,df3,df4,df5,df6,df7,df8,df9,df10,df11,df12],ignore_index=True)"
      ]
    },
    {
      "cell_type": "code",
      "execution_count": 21,
      "metadata": {
        "colab": {
          "base_uri": "https://localhost:8080/"
        },
        "id": "_nO56pI7HxdQ",
        "outputId": "7142d883-d830-42d0-accd-be0b1239bf90"
      },
      "outputs": [
        {
          "data": {
            "text/plain": [
              "(130696, 87)"
            ]
          },
          "execution_count": 21,
          "metadata": {},
          "output_type": "execute_result"
        }
      ],
      "source": [
        "df_todos.shape"
      ]
    },
    {
      "cell_type": "markdown",
      "metadata": {
        "id": "OIvSfzHpRj04"
      },
      "source": [
        "Convertir la variable \"ESTU_FECHANACIMIENTO\" y extraer la edad."
      ]
    },
    {
      "cell_type": "code",
      "execution_count": null,
      "metadata": {
        "colab": {
          "base_uri": "https://localhost:8080/"
        },
        "id": "9u8AvqBUhhNT",
        "outputId": "85ef8255-4db3-4585-e720-d3866fbb2df9"
      },
      "outputs": [
        {
          "name": "stdout",
          "output_type": "stream",
          "text": [
            "<class 'pandas.core.frame.DataFrame'>\n",
            "RangeIndex: 140757 entries, 0 to 140756\n",
            "Data columns (total 87 columns):\n",
            " #   Column                         Non-Null Count   Dtype  \n",
            "---  ------                         --------------   -----  \n",
            " 0   ESTU_TIPODOCUMENTO             140757 non-null  object \n",
            " 1   ESTU_NACIONALIDAD              140757 non-null  object \n",
            " 2   ESTU_GENERO                    140748 non-null  object \n",
            " 3   ESTU_FECHANACIMIENTO           140757 non-null  object \n",
            " 4   PERIODO                        140757 non-null  int64  \n",
            " 5   ESTU_CONSECUTIVO               140757 non-null  object \n",
            " 6   ESTU_ESTUDIANTE                140757 non-null  object \n",
            " 7   ESTU_PAIS_RESIDE               140757 non-null  object \n",
            " 8   ESTU_TIENEETNIA                138638 non-null  object \n",
            " 9   ESTU_ETNIA                     2388 non-null    object \n",
            " 10  ESTU_DEPTO_RESIDE              140543 non-null  object \n",
            " 11  ESTU_COD_RESIDE_DEPTO          140543 non-null  float64\n",
            " 12  ESTU_MCPIO_RESIDE              140543 non-null  object \n",
            " 13  ESTU_COD_RESIDE_MCPIO          140543 non-null  float64\n",
            " 14  FAMI_EDUCACIONPADRE            131568 non-null  object \n",
            " 15  FAMI_EDUCACIONMADRE            131552 non-null  object \n",
            " 16  FAMI_ESTRATOVIVIENDA           130777 non-null  object \n",
            " 17  FAMI_PERSONASHOGAR             134386 non-null  object \n",
            " 18  FAMI_CUARTOSHOGAR              134289 non-null  object \n",
            " 19  FAMI_TIENEINTERNET             131397 non-null  object \n",
            " 20  FAMI_TIENECOMPUTADOR           134299 non-null  object \n",
            " 21  FAMI_TIENELAVADORA             134425 non-null  object \n",
            " 22  FAMI_TIENEHORNOMICROOGAS       134211 non-null  object \n",
            " 23  FAMI_TIENESERVICIOTV           131070 non-null  object \n",
            " 24  FAMI_TIENEAUTOMOVIL            134025 non-null  object \n",
            " 25  FAMI_TIENEMOTOCICLETA          134203 non-null  object \n",
            " 26  FAMI_TIENECONSOLAVIDEOJUEGOS   134087 non-null  object \n",
            " 27  FAMI_NUMLIBROS                 129419 non-null  object \n",
            " 28  FAMI_COMELECHEDERIVADOS        130371 non-null  object \n",
            " 29  FAMI_COMECARNEPESCADOHUEVO     130913 non-null  object \n",
            " 30  FAMI_COMECEREALFRUTOSLEGUMBRE  130649 non-null  object \n",
            " 31  FAMI_TRABAJOLABORPADRE         133841 non-null  object \n",
            " 32  FAMI_TRABAJOLABORMADRE         134089 non-null  object \n",
            " 33  FAMI_SITUACIONECONOMICA        134083 non-null  object \n",
            " 34  ESTU_DEDICACIONLECTURADIARIA   131170 non-null  object \n",
            " 35  ESTU_DEDICACIONINTERNET        130895 non-null  object \n",
            " 36  ESTU_HORASSEMANATRABAJA        134183 non-null  object \n",
            " 37  ESTU_TIPOREMUNERACION          133774 non-null  object \n",
            " 38  COLE_CODIGO_ICFES              140757 non-null  int64  \n",
            " 39  COLE_COD_DANE_ESTABLECIMIENTO  140757 non-null  int64  \n",
            " 40  COLE_NOMBRE_ESTABLECIMIENTO    140757 non-null  object \n",
            " 41  COLE_GENERO                    140757 non-null  object \n",
            " 42  COLE_NATURALEZA                140757 non-null  object \n",
            " 43  COLE_CALENDARIO                140757 non-null  object \n",
            " 44  COLE_BILINGUE                  122359 non-null  object \n",
            " 45  COLE_CARACTER                  134261 non-null  object \n",
            " 46  COLE_COD_DANE_SEDE             140757 non-null  int64  \n",
            " 47  COLE_NOMBRE_SEDE               140757 non-null  object \n",
            " 48  COLE_SEDE_PRINCIPAL            140757 non-null  object \n",
            " 49  COLE_AREA_UBICACION            140757 non-null  object \n",
            " 50  COLE_JORNADA                   140757 non-null  object \n",
            " 51  COLE_COD_MCPIO_UBICACION       140757 non-null  int64  \n",
            " 52  COLE_MCPIO_UBICACION           140757 non-null  object \n",
            " 53  COLE_COD_DEPTO_UBICACION       140757 non-null  int64  \n",
            " 54  COLE_DEPTO_UBICACION           140757 non-null  object \n",
            " 55  ESTU_PRIVADO_LIBERTAD          140757 non-null  object \n",
            " 56  ESTU_COD_MCPIO_PRESENTACION    140756 non-null  float64\n",
            " 57  ESTU_MCPIO_PRESENTACION        140756 non-null  object \n",
            " 58  ESTU_DEPTO_PRESENTACION        140756 non-null  object \n",
            " 59  ESTU_COD_DEPTO_PRESENTACION    140756 non-null  float64\n",
            " 60  PUNT_LECTURA_CRITICA           140757 non-null  int64  \n",
            " 61  PERCENTIL_LECTURA_CRITICA      140757 non-null  int64  \n",
            " 62  DESEMP_LECTURA_CRITICA         140757 non-null  int64  \n",
            " 63  PUNT_MATEMATICAS               140757 non-null  int64  \n",
            " 64  PERCENTIL_MATEMATICAS          140757 non-null  int64  \n",
            " 65  DESEMP_MATEMATICAS             140757 non-null  int64  \n",
            " 66  PUNT_C_NATURALES               140757 non-null  int64  \n",
            " 67  PERCENTIL_C_NATURALES          140757 non-null  int64  \n",
            " 68  DESEMP_C_NATURALES             140757 non-null  int64  \n",
            " 69  PUNT_SOCIALES_CIUDADANAS       140757 non-null  int64  \n",
            " 70  PERCENTIL_SOCIALES_CIUDADANAS  140757 non-null  int64  \n",
            " 71  DESEMP_SOCIALES_CIUDADANAS     140757 non-null  int64  \n",
            " 72  PUNT_INGLES                    140671 non-null  float64\n",
            " 73  PERCENTIL_INGLES               140691 non-null  float64\n",
            " 74  DESEMP_INGLES                  140691 non-null  object \n",
            " 75  PUNT_GLOBAL                    140757 non-null  int64  \n",
            " 76  PERCENTIL_GLOBAL               140674 non-null  float64\n",
            " 77  ESTU_INSE_INDIVIDUAL           119677 non-null  float64\n",
            " 78  ESTU_NSE_INDIVIDUAL            119677 non-null  object \n",
            " 79  ESTU_NSE_ESTABLECIMIENTO       125141 non-null  float64\n",
            " 80  ESTU_ESTADOINVESTIGACION       140757 non-null  object \n",
            " 81  ESTU_PILOPAGA                  22139 non-null   object \n",
            " 82  ESTU_LIMITA_MOTRIZ             0 non-null       float64\n",
            " 83  ESTU_GENERACION-E              69589 non-null   object \n",
            " 84  ESTU_GENERACIONE               5687 non-null    object \n",
            " 85  ESTU_INSE_INDIVIDUAL.1         4848 non-null    float64\n",
            " 86  PERCENTIL_ESPECIAL_GLOBAL      300 non-null     float64\n",
            "dtypes: float64(12), int64(19), object(56)\n",
            "memory usage: 93.4+ MB\n"
          ]
        }
      ],
      "source": [
        "df_todos.info()"
      ]
    },
    {
      "cell_type": "code",
      "execution_count": 24,
      "metadata": {
        "colab": {
          "base_uri": "https://localhost:8080/",
          "height": 273
        },
        "id": "w-VHqAAcwxmd",
        "outputId": "e9d3f677-759a-4be4-9d15-3067721af510"
      },
      "outputs": [
        {
          "data": {
            "application/vnd.google.colaboratory.intrinsic+json": {
              "type": "dataframe",
              "variable_name": "df_todos"
            },
            "text/html": [
              "\n",
              "  <div id=\"df-87099258-1051-4731-8664-70a055e8187d\" class=\"colab-df-container\">\n",
              "    <div>\n",
              "<style scoped>\n",
              "    .dataframe tbody tr th:only-of-type {\n",
              "        vertical-align: middle;\n",
              "    }\n",
              "\n",
              "    .dataframe tbody tr th {\n",
              "        vertical-align: top;\n",
              "    }\n",
              "\n",
              "    .dataframe thead th {\n",
              "        text-align: right;\n",
              "    }\n",
              "</style>\n",
              "<table border=\"1\" class=\"dataframe\">\n",
              "  <thead>\n",
              "    <tr style=\"text-align: right;\">\n",
              "      <th></th>\n",
              "      <th>ESTU_TIPODOCUMENTO</th>\n",
              "      <th>ESTU_NACIONALIDAD</th>\n",
              "      <th>ESTU_GENERO</th>\n",
              "      <th>ESTU_FECHANACIMIENTO</th>\n",
              "      <th>PERIODO</th>\n",
              "      <th>ESTU_CONSECUTIVO</th>\n",
              "      <th>ESTU_ESTUDIANTE</th>\n",
              "      <th>ESTU_PAIS_RESIDE</th>\n",
              "      <th>ESTU_TIENEETNIA</th>\n",
              "      <th>ESTU_ETNIA</th>\n",
              "      <th>...</th>\n",
              "      <th>ESTU_INSE_INDIVIDUAL</th>\n",
              "      <th>ESTU_NSE_INDIVIDUAL</th>\n",
              "      <th>ESTU_NSE_ESTABLECIMIENTO</th>\n",
              "      <th>ESTU_ESTADOINVESTIGACION</th>\n",
              "      <th>ESTU_PILOPAGA</th>\n",
              "      <th>ESTU_LIMITA_MOTRIZ</th>\n",
              "      <th>ESTU_GENERACION-E</th>\n",
              "      <th>ESTU_GENERACIONE</th>\n",
              "      <th>ESTU_INSE_INDIVIDUAL.1</th>\n",
              "      <th>PERCENTIL_ESPECIAL_GLOBAL</th>\n",
              "    </tr>\n",
              "  </thead>\n",
              "  <tbody>\n",
              "    <tr>\n",
              "      <th>0</th>\n",
              "      <td>TI</td>\n",
              "      <td>COLOMBIA</td>\n",
              "      <td>F</td>\n",
              "      <td>2000-09-02</td>\n",
              "      <td>20171</td>\n",
              "      <td>SB11201710008394</td>\n",
              "      <td>ESTUDIANTE</td>\n",
              "      <td>COLOMBIA</td>\n",
              "      <td>No</td>\n",
              "      <td>NaN</td>\n",
              "      <td>...</td>\n",
              "      <td>6.986779e+09</td>\n",
              "      <td>NSE4</td>\n",
              "      <td>4.0</td>\n",
              "      <td>PUBLICAR</td>\n",
              "      <td>NaN</td>\n",
              "      <td>NaN</td>\n",
              "      <td>NaN</td>\n",
              "      <td>NaN</td>\n",
              "      <td>NaN</td>\n",
              "      <td>NaN</td>\n",
              "    </tr>\n",
              "    <tr>\n",
              "      <th>1</th>\n",
              "      <td>TI</td>\n",
              "      <td>COLOMBIA</td>\n",
              "      <td>F</td>\n",
              "      <td>2000-05-25</td>\n",
              "      <td>20171</td>\n",
              "      <td>SB11201710015727</td>\n",
              "      <td>ESTUDIANTE</td>\n",
              "      <td>COLOMBIA</td>\n",
              "      <td>No</td>\n",
              "      <td>NaN</td>\n",
              "      <td>...</td>\n",
              "      <td>6.763233e+09</td>\n",
              "      <td>NSE4</td>\n",
              "      <td>4.0</td>\n",
              "      <td>PUBLICAR</td>\n",
              "      <td>NaN</td>\n",
              "      <td>NaN</td>\n",
              "      <td>NaN</td>\n",
              "      <td>NaN</td>\n",
              "      <td>NaN</td>\n",
              "      <td>NaN</td>\n",
              "    </tr>\n",
              "    <tr>\n",
              "      <th>2</th>\n",
              "      <td>TI</td>\n",
              "      <td>COLOMBIA</td>\n",
              "      <td>F</td>\n",
              "      <td>2000-08-05</td>\n",
              "      <td>20171</td>\n",
              "      <td>SB11201710028846</td>\n",
              "      <td>ESTUDIANTE</td>\n",
              "      <td>COLOMBIA</td>\n",
              "      <td>No</td>\n",
              "      <td>NaN</td>\n",
              "      <td>...</td>\n",
              "      <td>6.539242e+09</td>\n",
              "      <td>NSE4</td>\n",
              "      <td>3.0</td>\n",
              "      <td>PUBLICAR</td>\n",
              "      <td>NaN</td>\n",
              "      <td>NaN</td>\n",
              "      <td>NaN</td>\n",
              "      <td>NaN</td>\n",
              "      <td>NaN</td>\n",
              "      <td>NaN</td>\n",
              "    </tr>\n",
              "    <tr>\n",
              "      <th>3</th>\n",
              "      <td>TI</td>\n",
              "      <td>COLOMBIA</td>\n",
              "      <td>M</td>\n",
              "      <td>2000-02-03</td>\n",
              "      <td>20171</td>\n",
              "      <td>SB11201710007085</td>\n",
              "      <td>ESTUDIANTE</td>\n",
              "      <td>COLOMBIA</td>\n",
              "      <td>No</td>\n",
              "      <td>NaN</td>\n",
              "      <td>...</td>\n",
              "      <td>6.888281e+09</td>\n",
              "      <td>NSE4</td>\n",
              "      <td>4.0</td>\n",
              "      <td>PUBLICAR</td>\n",
              "      <td>NaN</td>\n",
              "      <td>NaN</td>\n",
              "      <td>NaN</td>\n",
              "      <td>NaN</td>\n",
              "      <td>NaN</td>\n",
              "      <td>NaN</td>\n",
              "    </tr>\n",
              "    <tr>\n",
              "      <th>4</th>\n",
              "      <td>TI</td>\n",
              "      <td>COLOMBIA</td>\n",
              "      <td>F</td>\n",
              "      <td>1999-09-02</td>\n",
              "      <td>20171</td>\n",
              "      <td>SB11201710026209</td>\n",
              "      <td>ESTUDIANTE</td>\n",
              "      <td>COLOMBIA</td>\n",
              "      <td>No</td>\n",
              "      <td>NaN</td>\n",
              "      <td>...</td>\n",
              "      <td>6.076862e+09</td>\n",
              "      <td>NSE3</td>\n",
              "      <td>3.0</td>\n",
              "      <td>PUBLICAR</td>\n",
              "      <td>NaN</td>\n",
              "      <td>NaN</td>\n",
              "      <td>NaN</td>\n",
              "      <td>NaN</td>\n",
              "      <td>NaN</td>\n",
              "      <td>NaN</td>\n",
              "    </tr>\n",
              "  </tbody>\n",
              "</table>\n",
              "<p>5 rows × 87 columns</p>\n",
              "</div>\n",
              "    <div class=\"colab-df-buttons\">\n",
              "\n",
              "  <div class=\"colab-df-container\">\n",
              "    <button class=\"colab-df-convert\" onclick=\"convertToInteractive('df-87099258-1051-4731-8664-70a055e8187d')\"\n",
              "            title=\"Convert this dataframe to an interactive table.\"\n",
              "            style=\"display:none;\">\n",
              "\n",
              "  <svg xmlns=\"http://www.w3.org/2000/svg\" height=\"24px\" viewBox=\"0 -960 960 960\">\n",
              "    <path d=\"M120-120v-720h720v720H120Zm60-500h600v-160H180v160Zm220 220h160v-160H400v160Zm0 220h160v-160H400v160ZM180-400h160v-160H180v160Zm440 0h160v-160H620v160ZM180-180h160v-160H180v160Zm440 0h160v-160H620v160Z\"/>\n",
              "  </svg>\n",
              "    </button>\n",
              "\n",
              "  <style>\n",
              "    .colab-df-container {\n",
              "      display:flex;\n",
              "      gap: 12px;\n",
              "    }\n",
              "\n",
              "    .colab-df-convert {\n",
              "      background-color: #E8F0FE;\n",
              "      border: none;\n",
              "      border-radius: 50%;\n",
              "      cursor: pointer;\n",
              "      display: none;\n",
              "      fill: #1967D2;\n",
              "      height: 32px;\n",
              "      padding: 0 0 0 0;\n",
              "      width: 32px;\n",
              "    }\n",
              "\n",
              "    .colab-df-convert:hover {\n",
              "      background-color: #E2EBFA;\n",
              "      box-shadow: 0px 1px 2px rgba(60, 64, 67, 0.3), 0px 1px 3px 1px rgba(60, 64, 67, 0.15);\n",
              "      fill: #174EA6;\n",
              "    }\n",
              "\n",
              "    .colab-df-buttons div {\n",
              "      margin-bottom: 4px;\n",
              "    }\n",
              "\n",
              "    [theme=dark] .colab-df-convert {\n",
              "      background-color: #3B4455;\n",
              "      fill: #D2E3FC;\n",
              "    }\n",
              "\n",
              "    [theme=dark] .colab-df-convert:hover {\n",
              "      background-color: #434B5C;\n",
              "      box-shadow: 0px 1px 3px 1px rgba(0, 0, 0, 0.15);\n",
              "      filter: drop-shadow(0px 1px 2px rgba(0, 0, 0, 0.3));\n",
              "      fill: #FFFFFF;\n",
              "    }\n",
              "  </style>\n",
              "\n",
              "    <script>\n",
              "      const buttonEl =\n",
              "        document.querySelector('#df-87099258-1051-4731-8664-70a055e8187d button.colab-df-convert');\n",
              "      buttonEl.style.display =\n",
              "        google.colab.kernel.accessAllowed ? 'block' : 'none';\n",
              "\n",
              "      async function convertToInteractive(key) {\n",
              "        const element = document.querySelector('#df-87099258-1051-4731-8664-70a055e8187d');\n",
              "        const dataTable =\n",
              "          await google.colab.kernel.invokeFunction('convertToInteractive',\n",
              "                                                    [key], {});\n",
              "        if (!dataTable) return;\n",
              "\n",
              "        const docLinkHtml = 'Like what you see? Visit the ' +\n",
              "          '<a target=\"_blank\" href=https://colab.research.google.com/notebooks/data_table.ipynb>data table notebook</a>'\n",
              "          + ' to learn more about interactive tables.';\n",
              "        element.innerHTML = '';\n",
              "        dataTable['output_type'] = 'display_data';\n",
              "        await google.colab.output.renderOutput(dataTable, element);\n",
              "        const docLink = document.createElement('div');\n",
              "        docLink.innerHTML = docLinkHtml;\n",
              "        element.appendChild(docLink);\n",
              "      }\n",
              "    </script>\n",
              "  </div>\n",
              "\n",
              "\n",
              "<div id=\"df-1eda9362-f9a4-4141-bcd2-d9f0c539b5a6\">\n",
              "  <button class=\"colab-df-quickchart\" onclick=\"quickchart('df-1eda9362-f9a4-4141-bcd2-d9f0c539b5a6')\"\n",
              "            title=\"Suggest charts\"\n",
              "            style=\"display:none;\">\n",
              "\n",
              "<svg xmlns=\"http://www.w3.org/2000/svg\" height=\"24px\"viewBox=\"0 0 24 24\"\n",
              "     width=\"24px\">\n",
              "    <g>\n",
              "        <path d=\"M19 3H5c-1.1 0-2 .9-2 2v14c0 1.1.9 2 2 2h14c1.1 0 2-.9 2-2V5c0-1.1-.9-2-2-2zM9 17H7v-7h2v7zm4 0h-2V7h2v10zm4 0h-2v-4h2v4z\"/>\n",
              "    </g>\n",
              "</svg>\n",
              "  </button>\n",
              "\n",
              "<style>\n",
              "  .colab-df-quickchart {\n",
              "      --bg-color: #E8F0FE;\n",
              "      --fill-color: #1967D2;\n",
              "      --hover-bg-color: #E2EBFA;\n",
              "      --hover-fill-color: #174EA6;\n",
              "      --disabled-fill-color: #AAA;\n",
              "      --disabled-bg-color: #DDD;\n",
              "  }\n",
              "\n",
              "  [theme=dark] .colab-df-quickchart {\n",
              "      --bg-color: #3B4455;\n",
              "      --fill-color: #D2E3FC;\n",
              "      --hover-bg-color: #434B5C;\n",
              "      --hover-fill-color: #FFFFFF;\n",
              "      --disabled-bg-color: #3B4455;\n",
              "      --disabled-fill-color: #666;\n",
              "  }\n",
              "\n",
              "  .colab-df-quickchart {\n",
              "    background-color: var(--bg-color);\n",
              "    border: none;\n",
              "    border-radius: 50%;\n",
              "    cursor: pointer;\n",
              "    display: none;\n",
              "    fill: var(--fill-color);\n",
              "    height: 32px;\n",
              "    padding: 0;\n",
              "    width: 32px;\n",
              "  }\n",
              "\n",
              "  .colab-df-quickchart:hover {\n",
              "    background-color: var(--hover-bg-color);\n",
              "    box-shadow: 0 1px 2px rgba(60, 64, 67, 0.3), 0 1px 3px 1px rgba(60, 64, 67, 0.15);\n",
              "    fill: var(--button-hover-fill-color);\n",
              "  }\n",
              "\n",
              "  .colab-df-quickchart-complete:disabled,\n",
              "  .colab-df-quickchart-complete:disabled:hover {\n",
              "    background-color: var(--disabled-bg-color);\n",
              "    fill: var(--disabled-fill-color);\n",
              "    box-shadow: none;\n",
              "  }\n",
              "\n",
              "  .colab-df-spinner {\n",
              "    border: 2px solid var(--fill-color);\n",
              "    border-color: transparent;\n",
              "    border-bottom-color: var(--fill-color);\n",
              "    animation:\n",
              "      spin 1s steps(1) infinite;\n",
              "  }\n",
              "\n",
              "  @keyframes spin {\n",
              "    0% {\n",
              "      border-color: transparent;\n",
              "      border-bottom-color: var(--fill-color);\n",
              "      border-left-color: var(--fill-color);\n",
              "    }\n",
              "    20% {\n",
              "      border-color: transparent;\n",
              "      border-left-color: var(--fill-color);\n",
              "      border-top-color: var(--fill-color);\n",
              "    }\n",
              "    30% {\n",
              "      border-color: transparent;\n",
              "      border-left-color: var(--fill-color);\n",
              "      border-top-color: var(--fill-color);\n",
              "      border-right-color: var(--fill-color);\n",
              "    }\n",
              "    40% {\n",
              "      border-color: transparent;\n",
              "      border-right-color: var(--fill-color);\n",
              "      border-top-color: var(--fill-color);\n",
              "    }\n",
              "    60% {\n",
              "      border-color: transparent;\n",
              "      border-right-color: var(--fill-color);\n",
              "    }\n",
              "    80% {\n",
              "      border-color: transparent;\n",
              "      border-right-color: var(--fill-color);\n",
              "      border-bottom-color: var(--fill-color);\n",
              "    }\n",
              "    90% {\n",
              "      border-color: transparent;\n",
              "      border-bottom-color: var(--fill-color);\n",
              "    }\n",
              "  }\n",
              "</style>\n",
              "\n",
              "  <script>\n",
              "    async function quickchart(key) {\n",
              "      const quickchartButtonEl =\n",
              "        document.querySelector('#' + key + ' button');\n",
              "      quickchartButtonEl.disabled = true;  // To prevent multiple clicks.\n",
              "      quickchartButtonEl.classList.add('colab-df-spinner');\n",
              "      try {\n",
              "        const charts = await google.colab.kernel.invokeFunction(\n",
              "            'suggestCharts', [key], {});\n",
              "      } catch (error) {\n",
              "        console.error('Error during call to suggestCharts:', error);\n",
              "      }\n",
              "      quickchartButtonEl.classList.remove('colab-df-spinner');\n",
              "      quickchartButtonEl.classList.add('colab-df-quickchart-complete');\n",
              "    }\n",
              "    (() => {\n",
              "      let quickchartButtonEl =\n",
              "        document.querySelector('#df-1eda9362-f9a4-4141-bcd2-d9f0c539b5a6 button');\n",
              "      quickchartButtonEl.style.display =\n",
              "        google.colab.kernel.accessAllowed ? 'block' : 'none';\n",
              "    })();\n",
              "  </script>\n",
              "</div>\n",
              "\n",
              "    </div>\n",
              "  </div>\n"
            ],
            "text/plain": [
              "  ESTU_TIPODOCUMENTO ESTU_NACIONALIDAD ESTU_GENERO ESTU_FECHANACIMIENTO  \\\n",
              "0                 TI          COLOMBIA           F           2000-09-02   \n",
              "1                 TI          COLOMBIA           F           2000-05-25   \n",
              "2                 TI          COLOMBIA           F           2000-08-05   \n",
              "3                 TI          COLOMBIA           M           2000-02-03   \n",
              "4                 TI          COLOMBIA           F           1999-09-02   \n",
              "\n",
              "   PERIODO  ESTU_CONSECUTIVO ESTU_ESTUDIANTE ESTU_PAIS_RESIDE ESTU_TIENEETNIA  \\\n",
              "0    20171  SB11201710008394      ESTUDIANTE         COLOMBIA              No   \n",
              "1    20171  SB11201710015727      ESTUDIANTE         COLOMBIA              No   \n",
              "2    20171  SB11201710028846      ESTUDIANTE         COLOMBIA              No   \n",
              "3    20171  SB11201710007085      ESTUDIANTE         COLOMBIA              No   \n",
              "4    20171  SB11201710026209      ESTUDIANTE         COLOMBIA              No   \n",
              "\n",
              "  ESTU_ETNIA  ... ESTU_INSE_INDIVIDUAL  ESTU_NSE_INDIVIDUAL  \\\n",
              "0        NaN  ...         6.986779e+09                 NSE4   \n",
              "1        NaN  ...         6.763233e+09                 NSE4   \n",
              "2        NaN  ...         6.539242e+09                 NSE4   \n",
              "3        NaN  ...         6.888281e+09                 NSE4   \n",
              "4        NaN  ...         6.076862e+09                 NSE3   \n",
              "\n",
              "  ESTU_NSE_ESTABLECIMIENTO  ESTU_ESTADOINVESTIGACION ESTU_PILOPAGA  \\\n",
              "0                      4.0                  PUBLICAR           NaN   \n",
              "1                      4.0                  PUBLICAR           NaN   \n",
              "2                      3.0                  PUBLICAR           NaN   \n",
              "3                      4.0                  PUBLICAR           NaN   \n",
              "4                      3.0                  PUBLICAR           NaN   \n",
              "\n",
              "  ESTU_LIMITA_MOTRIZ ESTU_GENERACION-E ESTU_GENERACIONE  \\\n",
              "0                NaN               NaN              NaN   \n",
              "1                NaN               NaN              NaN   \n",
              "2                NaN               NaN              NaN   \n",
              "3                NaN               NaN              NaN   \n",
              "4                NaN               NaN              NaN   \n",
              "\n",
              "  ESTU_INSE_INDIVIDUAL.1 PERCENTIL_ESPECIAL_GLOBAL  \n",
              "0                    NaN                       NaN  \n",
              "1                    NaN                       NaN  \n",
              "2                    NaN                       NaN  \n",
              "3                    NaN                       NaN  \n",
              "4                    NaN                       NaN  \n",
              "\n",
              "[5 rows x 87 columns]"
            ]
          },
          "execution_count": 24,
          "metadata": {},
          "output_type": "execute_result"
        }
      ],
      "source": [
        "df_todos.head()"
      ]
    },
    {
      "cell_type": "code",
      "execution_count": 25,
      "metadata": {
        "id": "JbxuFYPXx70L"
      },
      "outputs": [],
      "source": [
        "df_todos['anio_presentacion'] = df_todos['PERIODO'].astype(str).str[:4]"
      ]
    },
    {
      "cell_type": "code",
      "execution_count": 26,
      "metadata": {
        "id": "Cma_sgQyylif"
      },
      "outputs": [],
      "source": [
        "df_todos['anio_presentacion'] = pd.to_datetime(df_todos['anio_presentacion'],errors='coerce')"
      ]
    },
    {
      "cell_type": "code",
      "execution_count": 27,
      "metadata": {
        "id": "NI7WI4Ta1Te7"
      },
      "outputs": [],
      "source": [
        "df_todos['edad'] = (df_todos['anio_presentacion'] - df_todos['ESTU_FECHANACIMIENTO']).dt.days // 365"
      ]
    },
    {
      "cell_type": "markdown",
      "metadata": {
        "id": "qaOyphArWrMd"
      },
      "source": [
        "Transformar la variable: ESTU_INSE_INDIVIDUAL para que quede en dos digitos."
      ]
    },
    {
      "cell_type": "code",
      "execution_count": 28,
      "metadata": {
        "id": "viH9TXDJ16HT"
      },
      "outputs": [],
      "source": [
        "df_todos['INSE'] = df_todos['ESTU_INSE_INDIVIDUAL'].astype(str).str[:2] + '.' + df_todos['ESTU_INSE_INDIVIDUAL'].astype(str).str[2:3]\n",
        "\n",
        "# Convertir a float\n",
        "df_todos['INSE'] = pd.to_numeric(df_todos['INSE'], errors='coerce')"
      ]
    },
    {
      "cell_type": "markdown",
      "metadata": {
        "id": "i96fyxKja50u"
      },
      "source": [
        "Eliminar estas variables: ESTU_PILOPAGA, ESTU_LIMITA_MOTRIZ, ESTU_GENERACION-E, ESTU_GENERACIONE,ESTU_INSE_INDIVIDUAL, PERCENTIL_ESPECIAL_GLOBAL, anio_presentacion,ESTU_FECHANACIMIENTO,ESTU_INSE_INDIVIDUAL.1"
      ]
    },
    {
      "cell_type": "code",
      "execution_count": 29,
      "metadata": {
        "id": "R33WT8mS5d3S"
      },
      "outputs": [],
      "source": [
        "columnas=['ESTU_PILOPAGA','ESTU_LIMITA_MOTRIZ','ESTU_GENERACION-E','ESTU_GENERACIONE','ESTU_INSE_INDIVIDUAL','PERCENTIL_ESPECIAL_GLOBAL','anio_presentacion','ESTU_FECHANACIMIENTO','ESTU_INSE_INDIVIDUAL.1']"
      ]
    },
    {
      "cell_type": "code",
      "execution_count": 30,
      "metadata": {
        "id": "xI7rzDbB8DwR"
      },
      "outputs": [],
      "source": [
        "df_todos.drop(columns=columnas,inplace=True)"
      ]
    },
    {
      "cell_type": "markdown",
      "metadata": {},
      "source": [
        "Se elimiman la columna ESTU_TIENEETNIA y ESTU_ETNIA dado que no hay suficientes datos, de igual forma las columnas\n",
        "relacionadas con el icfes como puntajes de otras materias, INSE, entre otras"
      ]
    },
    {
      "cell_type": "code",
      "execution_count": null,
      "metadata": {},
      "outputs": [],
      "source": [
        "df_todos.drop(columns=['ESTU_TIENEETNIA','ESTU_ETNIA','PUNT_LECTURA_CRITICA','PERCENTIL_LECTURA_CRITICA','DESEMP_LECTURA_CRITICA','PUNT_MATEMATICAS','PERCENTIL_MATEMATICAS','DESEMP_MATEMATICAS','PUNT_C_NATURALES','PERCENTIL_C_NATURALES','DESEMP_C_NATURALES','PUNT_SOCIALES_CIUDADANAS','PERCENTIL_SOCIALES_CIUDADANAS','DESEMP_SOCIALES_CIUDADANAS','PUNT_INGLES','PERCENTIL_INGLES','DESEMP_INGLES','PERCENTIL_GLOBAL','INSE','ESTU_CONSECUTIVO','ESTU_NSE_ESTABLECIMIENTO','ESTU_NSE_INDIVIDUAL','COLE_CODIGO_ICFES','COLE_COD_DEPTO_UBICACION','ESTU_ESTUDIANTE','COLE_COD_MCPIO_UBICACION','ESTU_PRIVADO_LIBERTAD','ESTU_COD_MCPIO_PRESENTACION','ESTU_ESTADOINVESTIGACION','ESTU_MCPIO_PRESENTACION','ESTU_DEPTO_PRESENTACION','ESTU_COD_DEPTO_PRESENTACION','ESTU_COD_RESIDE_DEPTO'],inplace=True)"
      ]
    },
    {
      "cell_type": "code",
      "execution_count": null,
      "metadata": {},
      "outputs": [],
      "source": [
        "df_todos.to_csv('df_output/cali_publicos_provados_2017_2022.csv',index=False)"
      ]
    }
  ],
  "metadata": {
    "colab": {
      "provenance": []
    },
    "kernelspec": {
      "display_name": "Python 3",
      "name": "python3"
    },
    "language_info": {
      "name": "python"
    }
  },
  "nbformat": 4,
  "nbformat_minor": 0
}
